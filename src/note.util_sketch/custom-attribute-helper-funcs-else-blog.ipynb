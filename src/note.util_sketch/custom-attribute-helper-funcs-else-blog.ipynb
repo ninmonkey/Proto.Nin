{
 "cells": [
  {
   "cell_type": "code",
   "execution_count": null,
   "metadata": {
    "dotnet_interactive": {
     "language": "pwsh"
    },
    "vscode": {
     "languageId": "dotnet-interactive.pwsh"
    }
   },
   "outputs": [
    {
     "name": "stdout",
     "output_type": "stream",
     "text": [
      "\u001b[91mInvalidOperation: \r\n",
      "\u001b[96mLine |\r\n",
      "\u001b[96m  41 | \u001b[0m \u001b[96m_renderAttrParamBool (\u001b[0m\r\n",
      "\u001b[96m     | \u001b[91m ~~~~~~~~~~~~~~~~~~~~~~\r\n",
      "\u001b[91m\u001b[96m     | \u001b[91mYou cannot call a method on a null-valued expression.\u001b[0m\r\n"
     ]
    }
   ],
   "source": [
    "class EmployeeInfo : Attribute {\n",
    "    [string]$Name = 'john doe'\n",
    "    [int]$Id = 0\n",
    "    # tostring\n",
    "}\n",
    "\n",
    "# New-Employee | Remove-Employee\n",
    "\n",
    "# New-Employee 'bob'\n",
    "# Remove-Employee\n",
    "# Remove-Employee\n",
    "\n",
    "function _renderAttrParamBool {\n",
    "    param(\n",
    "        [bool]$InputObject\n",
    "    )\n",
    "    if($InputObject) {\n",
    "        '$Mandatory'\n",
    "    } else {\n",
    "        '$Mandatory=$false'\n",
    "    }\n",
    "\n",
    "    # process {        \n",
    "    # }\n",
    "}\n",
    "\n",
    "function sampleFunc {\n",
    "    [cmdletbinding()]\n",
    "    param(\n",
    "        [Parameter(Mandatory, DontShow)]$NoShowParam,\n",
    "        \n",
    "        [EmployeeInfo()]$Employee\n",
    "    )    \n",
    "\n",
    "    $NoShoWParam\n",
    "    $Employee\n",
    "}\n",
    "\n",
    "\n",
    "_renderAttrParamBool (\n",
    "    $SomeParam.GetType()\n",
    ")\n"
   ]
  },
  {
   "cell_type": "code",
   "execution_count": null,
   "metadata": {
    "dotnet_interactive": {
     "language": "pwsh"
    },
    "vscode": {
     "languageId": "dotnet-interactive.pwsh"
    }
   },
   "outputs": [
    {
     "name": "stdout",
     "output_type": "stream",
     "text": [
      "\r\n",
      "\u001b[32;1mName            : \u001b[0mNoShowParam\r\n",
      "\u001b[32;1mParameterType   : \u001b[0mSystem.Object\r\n",
      "\u001b[32;1mParameterSets   : \u001b[0m{[__AllParameterSets, System.Management.Automation.ParameterSetMetadata]}\r\n",
      "\u001b[32;1mIsDynamic       : \u001b[0mFalse\r\n",
      "\u001b[32;1mAliases         : \u001b[0m{}\r\n",
      "\u001b[32;1mAttributes      : \u001b[0m{__AllParameterSets}\r\n",
      "\u001b[32;1mSwitchParameter : \u001b[0mFalse\r\n",
      "\r\n",
      "2\r\n",
      "\u001b[32;1mName   : \u001b[0mjohn doe\r\n",
      "\u001b[32;1mId     : \u001b[0m0\r\n",
      "\u001b[32;1mTypeId : \u001b[0mEmployeeInfo\r\n",
      "\r\n",
      "\r\n"
     ]
    }
   ],
   "source": [
    "(gcm sampleFunc).Parameters['NoShowParam']\n",
    "\n",
    "$pEmpl = (gcm sampleFunc).Parameters['Employee']\n",
    "$pEmpl.Attributes.count\n",
    "$pEmpl.Attributes[1]\n",
    "\n"
   ]
  }
 ],
 "metadata": {
  "kernelspec": {
   "display_name": ".NET (PowerShell)",
   "language": "PowerShell",
   "name": ".net-pwsh"
  },
  "language_info": {
   "name": "PowerShell"
  }
 },
 "nbformat": 4,
 "nbformat_minor": 2
}
