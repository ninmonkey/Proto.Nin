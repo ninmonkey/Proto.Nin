{
 "cells": [
  {
   "cell_type": "markdown",
   "metadata": {},
   "source": [
    "Fd find is from <https://github.com/sharkdp/fd> "
   ]
  },
  {
   "cell_type": "code",
   "execution_count": null,
   "metadata": {
    "dotnet_interactive": {
     "language": "pwsh"
    },
    "vscode": {
     "languageId": "dotnet-interactive.pwsh"
    }
   },
   "outputs": [
    {
     "name": "stdout",
     "output_type": "stream",
     "text": [
      "\r\n",
      "\u001b[32;1mCommandType Name                   Version Source\u001b[0m\r\n",
      "\u001b[32;1m----------- ----                   ------- ------\u001b[0m\r\n",
      "Cmdlet      Find-Member            2.3.3   classExplorer\r\n",
      "Cmdlet      Find-Type              2.3.3   classExplorer\r\n",
      "Cmdlet      Format-MemberSignature 2.3.3   classExplorer\r\n",
      "Cmdlet      Get-Assembly           2.3.3   classExplorer\r\n",
      "Cmdlet      Get-Parameter          2.3.3   classExplorer\r\n",
      "\r\n"
     ]
    }
   ],
   "source": [
    "import-module classExplorer\n",
    "Import-Module Ninmonkey.Console -ea silentlycontinue *>$Null\n",
    "\n",
    "gcm -m ClassExplorer | ft -auto"
   ]
  },
  {
   "cell_type": "markdown",
   "metadata": {},
   "source": [
    "Mandatory $PROFILE config\n",
    "```ps1\n",
    "# Ensures it's non-bom-utf8 otherwise the static method includes BOM by default\n",
    "$OutputEncoding = [console]::InputEncoding = [console]::OutputEncoding = [System.Text.UTF8Encoding]::new()\n",
    "# for colors\n",
    "$Env:LESS =  '-R'\n",
    "$Env:Pager = 'Bat'  # less, or bat, either are great. less is on 'choco'\n",
    "$Env:Pager = 'Less' # less, or bat, either are great. less is on 'choco'\n",
    "\n",
    "# if you don't want automatic color mode. this ensures more colors, and forces escapes to always use the 24bit color format\n",
    "[PoshCode.Pansies.RgbColor]::ColorMode = [PoshCode.Pansies.ColorMode]::Rgb24Bit \n",
    "```\n",
    "If you have `Git` installed on windows, you already have a ton of linux utilities, like `less`, `tail`, `printf`, `ls`, `find`, etc . IIRC the `less` from `choco` had the better version of `less`\n",
    "\n",
    "```ps1\n",
    "if (Test-Path 'C:\\Program Files\\Git\\usr\\bin') {\n",
    "    $Env:Path += ';', 'C:\\Program Files\\Git\\usr\\bin'\n",
    "}\n",
    "```"
   ]
  },
  {
   "cell_type": "markdown",
   "metadata": {},
   "source": [
    "Extra config, \n",
    "```ps1\n",
    "$eaIgnore = @{ ErrorAction = 'ignore' }\n",
    "$Env:BAT_CONFIG_PATH     = Join-Path $Env:Nin_Dotfiles '/cli/bat/.batrc' | Get-Item @eaIgnore\n",
    "$Env:PYTHONSTARTUP       = Join-Path $Env:Nin_Dotfiles '/cli/python/nin-py3-x-profile.py' | Get-Item @eaIgnore\n",
    "$Env:RIPGREP_CONFIG_PATH = Join-Path $Env:Nin_Dotfiles '/cli/ripgrep/.ripgreprc' | Get-Item @eaIgnore\n",
    "```\n",
    "if `fzf`\n",
    "```ps1\n",
    "$Env:FZF_DEFAULT_COMMAND = 'fd --type file --hidden --exclude .git --color=always'\n",
    "$Env:FZF_DEFAULT_OPTS = '--ansi --no-height'\n",
    "```\n",
    "`StripAnsi` (for below) is at [StripAnsi\\(\\)](https://github.com/ninmonkey/dotfiles_git/blob/efd8bbccc2e308e53e341808b657ade0e04420ff/powershell/EveryoneShouldImportThese.ps1#L99)"
   ]
  },
  {
   "cell_type": "markdown",
   "metadata": {},
   "source": [
    "`fd` outputs a lot of color using `ansi escapes`. \n",
    "[windows terminal `wt`](https://docs.microsoft.com/en-us/windows/terminal/)\n",
    "- fully supports utf8\n",
    "- 24bit color\n",
    "- There's `$PSStyle` and [Rgb.Pansies](https://github.com/PoshCode/Pansies) to generate the actual escapes for you"
   ]
  },
  {
   "cell_type": "code",
   "execution_count": null,
   "metadata": {
    "dotnet_interactive": {
     "language": "pwsh"
    },
    "vscode": {
     "languageId": "dotnet-interactive.pwsh"
    }
   },
   "outputs": [
    {
     "name": "stdout",
     "output_type": "stream",
     "text": [
      "\u001b[38;2;102;102;102mCollections.Generic.\u001b[38;2;229;229;229mList\u001b[38;2;179;179;179m[\u001b[92mobject\u001b[38;2;179;179;179m]\u001b[39m\r\n"
     ]
    }
   ],
   "source": [
    "$C = @{ \n",
    "    FgDim   = \"$fg:gray40\"\n",
    "    Fg      = \"$fg:gray70\"\n",
    "    Special = \"$fg:green\"\n",
    "    FgBold  = \"$fg:gray90\"\n",
    "}\n",
    "@(\n",
    "    $C.FgDim\n",
    "    'Collections.Generic.'\n",
    "    $C.FgBold\n",
    "    'List'\n",
    "    $C.Fg\n",
    "    '['\n",
    "    $C.Special\n",
    "    'object'\n",
    "    $C.Fg\n",
    "    ']'\n",
    "    \"$Fg:clear\"\n",
    ") -join ''"
   ]
  },
  {
   "cell_type": "code",
   "execution_count": null,
   "metadata": {
    "dotnet_interactive": {
     "language": "pwsh"
    },
    "vscode": {
     "languageId": "dotnet-interactive.pwsh"
    }
   },
   "outputs": [
    {
     "name": "stdout",
     "output_type": "stream",
     "text": [
      "\u001b[38;5;81mC:\\Users\\cppmo_000\\\u001b[0m1\r\n",
      "\u001b[38;5;81mC:\\Users\\cppmo_000\\\u001b[0m\u001b[38;5;185mNamespace_AngularSharp.csv\u001b[0m\r\n",
      "\u001b[38;5;81mC:\\Users\\cppmo_000\\\u001b[0m\u001b[38;5;185mToday.md\u001b[0m\r\n",
      "\u001b[38;5;81mC:\\Users\\cppmo_000\\\u001b[0mUntitled-1.jsonc\r\n",
      "\u001b[38;5;81mC:\\Users\\cppmo_000\\\u001b[0m_lesshst\r\n",
      "\u001b[38;5;81mC:\\Users\\cppmo_000\\\u001b[0m\u001b[38;5;243mdebug.log\u001b[0m\r\n",
      "\u001b[38;5;81mC:\\Users\\cppmo_000\\\u001b[0mdisabled.dir_colors\r\n",
      "\u001b[38;5;81mC:\\Users\\cppmo_000\\\u001b[0m\u001b[38;5;48mfoo.sql\u001b[0m\r\n",
      "\u001b[38;5;81mC:\\Users\\cppmo_000\\\u001b[0m\u001b[38;5;208mg1016.png\u001b[0m\r\n",
      "\u001b[38;5;81mC:\\Users\\cppmo_000\\\u001b[0m\u001b[38;5;149mglobal.nin.json\u001b[0m\r\n",
      "\u001b[38;5;81mC:\\Users\\cppmo_000\\\u001b[0m\u001b[38;5;185mlast.txt\u001b[0m\r\n",
      "\u001b[38;5;81mC:\\Users\\cppmo_000\\\u001b[0mlastast\r\n",
      "\u001b[38;5;81mC:\\Users\\cppmo_000\\\u001b[0m\u001b[38;5;48mmini-error.ps1\u001b[0m\r\n",
      "\u001b[38;5;81mC:\\Users\\cppmo_000\\\u001b[0m\u001b[38;5;243mpackage-lock.json\u001b[0m\r\n",
      "\u001b[38;5;81mC:\\Users\\cppmo_000\\\u001b[0mprof-2f77\r\n",
      "\u001b[38;5;81mC:\\Users\\cppmo_000\\\u001b[0m\u001b[38;5;185mprof-e748.extHost.cpuprofile.txt\u001b[0m\r\n",
      "\u001b[38;5;81mC:\\Users\\cppmo_000\\\u001b[0m\u001b[38;5;185mprof-e748.main.cpuprofile.txt\u001b[0m\r\n",
      "\u001b[38;5;81mC:\\Users\\cppmo_000\\\u001b[0m\u001b[38;5;185mprof-e748.renderer.cpuprofile.txt\u001b[0m\r\n",
      "\u001b[38;5;81mC:\\Users\\cppmo_000\\\u001b[0m\u001b[38;5;243mpssession.log\u001b[0m\r\n",
      "\u001b[38;5;81mC:\\Users\\cppmo_000\\\u001b[0m\u001b[38;5;185mraw text and csv 2021-04-20-export.csv\u001b[0m\r\n"
     ]
    }
   ],
   "source": [
    "$cachedLs ??= fd --search-path (gi ~) --color=always -d1 -tf\n",
    "$cachedLs | select -first 20"
   ]
  },
  {
   "cell_type": "code",
   "execution_count": null,
   "metadata": {
    "dotnet_interactive": {
     "language": "pwsh"
    },
    "vscode": {
     "languageId": "dotnet-interactive.pwsh"
    }
   },
   "outputs": [
    {
     "name": "stdout",
     "output_type": "stream",
     "text": [
      "\u001b[38;5;81mC:\\Users\\cppmo_000\\\u001b[0m1\r\n",
      "\u001b[38;5;81mC:\\Users\\cppmo_000\\\u001b[0msdfds\r\n",
      "\u001b[38;5;81mC:\\Users\\cppmo_000\\\u001b[0mlastast\r\n",
      "\u001b[38;5;81mC:\\Users\\cppmo_000\\\u001b[0m_lesshst\r\n",
      "\u001b[38;5;81mC:\\Users\\cppmo_000\\\u001b[0mprof-2f77\r\n",
      "\u001b[38;5;81mC:\\Users\\cppmo_000\\\u001b[0mz-location.db\r\n",
      "\u001b[38;5;81mC:\\Users\\cppmo_000\\\u001b[0mUntitled-1.jsonc\r\n",
      "\u001b[38;5;81mC:\\Users\\cppmo_000\\\u001b[0mdisabled.dir_colors\r\n",
      "\u001b[38;5;81mC:\\Users\\cppmo_000\\\u001b[0m\u001b[38;5;48mfoo.sql\u001b[0m\r\n",
      "\u001b[38;5;81mC:\\Users\\cppmo_000\\\u001b[0m\u001b[38;5;185mtest.txt\u001b[0m\r\n",
      "\u001b[38;5;81mC:\\Users\\cppmo_000\\\u001b[0m\u001b[38;5;185mlast.txt\u001b[0m\r\n",
      "\u001b[38;5;81mC:\\Users\\cppmo_000\\\u001b[0m\u001b[38;5;185mToday.md\u001b[0m\r\n",
      "\u001b[38;5;81mC:\\Users\\cppmo_000\\\u001b[0m\u001b[38;5;208mg1016.png\u001b[0m\r\n",
      "\u001b[38;5;81mC:\\Users\\cppmo_000\\\u001b[0m\u001b[38;5;149mtemp.json\u001b[0m\r\n",
      "\u001b[38;5;81mC:\\Users\\cppmo_000\\\u001b[0m\u001b[38;5;243mdebug.log\u001b[0m\r\n",
      "\u001b[38;5;81mC:\\Users\\cppmo_000\\\u001b[0m\u001b[38;5;185mtoday.4.md\u001b[0m\r\n",
      "\u001b[38;5;81mC:\\Users\\cppmo_000\\\u001b[0m\u001b[38;5;243mpssession.log\u001b[0m\r\n",
      "\u001b[38;5;81mC:\\Users\\cppmo_000\\\u001b[0m\u001b[38;5;48mmini-error.ps1\u001b[0m\r\n",
      "\u001b[38;5;81mC:\\Users\\cppmo_000\\\u001b[0m\u001b[38;5;149mglobal.nin.json\u001b[0m\r\n",
      "\u001b[38;5;81mC:\\Users\\cppmo_000\\\u001b[0m\u001b[38;5;243mpackage-lock.json\u001b[0m\r\n",
      "\u001b[38;5;81mC:\\Users\\cppmo_000\\\u001b[0m\u001b[38;5;185mNamespace_AngularSharp.csv\u001b[0m\r\n",
      "\u001b[38;5;81mC:\\Users\\cppmo_000\\\u001b[0m\u001b[38;5;185mprof-e748.main.cpuprofile.txt\u001b[0m\r\n",
      "\u001b[38;5;81mC:\\Users\\cppmo_000\\\u001b[0m\u001b[38;5;185mprof-e748.extHost.cpuprofile.txt\u001b[0m\r\n",
      "\u001b[38;5;81mC:\\Users\\cppmo_000\\\u001b[0m\u001b[38;5;185mprof-e748.renderer.cpuprofile.txt\u001b[0m\r\n",
      "\u001b[38;5;81mC:\\Users\\cppmo_000\\\u001b[0m\u001b[38;5;185mraw text and csv 2021-04-20-export.csv\u001b[0m\r\n"
     ]
    }
   ],
   "source": [
    "$cachedLs | sort { $_.Length }"
   ]
  },
  {
   "cell_type": "markdown",
   "metadata": {
    "dotnet_interactive": {
     "language": "pwsh"
    }
   },
   "source": [
    "A bunch of commands, like: `Sort-Object`, `Where-Object`, `Group-Object`\n",
    "allow you to benefit by both **colors** (ie: raw text) and **objects** \n",
    "\n",
    "Here the `GroupBy` `ScriptBlock` is\n",
    "\n",
    "- taking the raw text is piped from `fd --color=always`\n",
    "- stripping ansi escapes\n",
    "- Converting it to a `[IO.FileSystemInfo]`\n",
    "- sorting on the `LastWriteTime` member\n",
    "- extracting the member `Extension` and the comparison key\n",
    "- finally it pipes the raw ansi escapes"
   ]
  },
  {
   "cell_type": "code",
   "execution_count": null,
   "metadata": {
    "dotnet_interactive": {
     "language": "pwsh"
    },
    "vscode": {
     "languageId": "dotnet-interactive.pwsh"
    }
   },
   "outputs": [
    {
     "name": "stdout",
     "output_type": "stream",
     "text": [
      "\r\n",
      "\u001b[32;1mCount Name        Group\u001b[0m\r\n",
      "\u001b[32;1m----- ----        -----\u001b[0m\r\n",
      "    5             {\u001b[38;5;81mC:\\Users\\cppmo_000\\\u001b[0m1, \u001b[38;5;81mC:\\Users\\cppmo_000\\\u001b[0m_lesshst, …\u001b[0m\r\n",
      "    2 .csv        {\u001b[38;5;81mC:\\Users\\cppmo_000\\\u001b[0m\u001b[38;5;185mNamespace_AngularSharp.csv\u001b[0m, \u001b[3…\u001b[0m\r\n",
      "    1 .db         {\u001b[38;5;81mC:\\Users\\cppmo_000\\\u001b[0mz-location.db}\u001b[0m\r\n",
      "    1 .dir_colors {\u001b[38;5;81mC:\\Users\\cppmo_000\\\u001b[0mdisabled.dir_colors}\u001b[0m\r\n",
      "    3 .json       {\u001b[38;5;81mC:\\Users\\cppmo_000\\\u001b[0m\u001b[38;5;149mglobal.nin.json\u001b[0m, \u001b[38;5;81mC:\\U…\u001b[0m\r\n",
      "    1 .jsonc      {\u001b[38;5;81mC:\\Users\\cppmo_000\\\u001b[0mUntitled-1.jsonc}\u001b[0m\r\n",
      "    2 .log        {\u001b[38;5;81mC:\\Users\\cppmo_000\\\u001b[0m\u001b[38;5;243mdebug.log\u001b[0m, \u001b[38;5;81mC:\\Users\\c…\u001b[0m\r\n",
      "    2 .md         {\u001b[38;5;81mC:\\Users\\cppmo_000\\\u001b[0m\u001b[38;5;185mToday.md\u001b[0m, \u001b[38;5;81mC:\\Users\\cp…\u001b[0m\r\n",
      "    1 .png        {\u001b[38;5;81mC:\\Users\\cppmo_000\\\u001b[0m\u001b[38;5;208mg1016.png\u001b[0m}\u001b[0m\r\n",
      "    1 .ps1        {\u001b[38;5;81mC:\\Users\\cppmo_000\\\u001b[0m\u001b[38;5;48mmini-error.ps1\u001b[0m}\u001b[0m\r\n",
      "    1 .sql        {\u001b[38;5;81mC:\\Users\\cppmo_000\\\u001b[0m\u001b[38;5;48mfoo.sql\u001b[0m}\u001b[0m\r\n",
      "    5 .txt        {\u001b[38;5;81mC:\\Users\\cppmo_000\\\u001b[0m\u001b[38;5;185mlast.txt\u001b[0m, \u001b[38;5;81mC:\\Users\\cp…\u001b[0m\r\n",
      "\r\n"
     ]
    }
   ],
   "source": [
    "$CachedLs\n",
    "| Group { $_ | StripAnsi | gi | sort LastWriteTime | % Extension }\n",
    "| ft -auto"
   ]
  },
  {
   "cell_type": "markdown",
   "metadata": {},
   "source": [
    "\n"
   ]
  },
  {
   "cell_type": "markdown",
   "metadata": {},
   "source": [
    "```ps1\n",
    "# this does not render great, so here's it in markdown\n",
    "Pwsh🐒> gcm ls | help -online\n",
    "```\n",
    "this opens [docs.microsoft.com/../microsoft.powershell.management/get-childitem?view=powershell-7.3&WT.mc_id=ps-gethelp](https://docs.microsoft.com/en-us/powershell/module/microsoft.powershell.management/get-childitem?view=powershell-7.3&WT.mc_id=ps-gethelp)\n",
    "or\n",
    "\n",
    "```ps1\n",
    "Pwsh🐒> gcm -m ClassExplorer | at -1 | help -online\n",
    "```\n",
    "This opens the page: <https://github.com/SeeminglyScience/ClassExplorer/blob/master/docs/en-US/Find-Type.md>"
   ]
  },
  {
   "cell_type": "markdown",
   "metadata": {},
   "source": [
    "File objects default to formatting like this (on my profile)"
   ]
  },
  {
   "cell_type": "code",
   "execution_count": null,
   "metadata": {
    "dotnet_interactive": {
     "language": "pwsh"
    },
    "vscode": {
     "languageId": "dotnet-interactive.pwsh"
    }
   },
   "outputs": [
    {
     "name": "stdout",
     "output_type": "stream",
     "text": [
      "\r\n",
      "    Directory: C:\\Users\\cppmo_000\\AppData\\Roaming\\Code\\logs\\20220629T100533\\exthost1\\output_logging\r\n",
      "_20220629T100541\r\n",
      "\r\n",
      "\u001b[32;1mMode                 LastWriteTime         Length Name\u001b[0m\r\n",
      "\u001b[32;1m----                 -------------         ------ ----\u001b[0m\r\n",
      "-a---           6/29/2022  6:02 PM           1578 26-.NET Interactive  diagnostics.log\r\n",
      "-a---           6/29/2022  6:09 PM           4330 11-JSON Language Server.log\r\n",
      "\r\n",
      "    Directory: C:\\Users\\cppmo_000\\AppData\\Roaming\\Code\\logs\\20220629T100533\\exthost2\\output_logging\r\n",
      "_20220629T100541\r\n",
      "\r\n",
      "\u001b[32;1mMode                 LastWriteTime         Length Name\u001b[0m\r\n",
      "\u001b[32;1m----                 -------------         ------ ----\u001b[0m\r\n",
      "-a---           6/29/2022  6:10 PM           6020 15-JSON Language Server.log\r\n",
      "\r\n"
     ]
    }
   ],
   "source": [
    "fd --changed-within 10minutes --search-path (gi  \"$Env:AppData\\code\\logs\")\n",
    "| gi\n",
    "| ? Name -NotMatch 'github|jupyter|git'\n",
    "| sort LastWriteTime\n"
   ]
  },
  {
   "cell_type": "code",
   "execution_count": null,
   "metadata": {
    "dotnet_interactive": {
     "language": "pwsh"
    },
    "vscode": {
     "languageId": "dotnet-interactive.pwsh"
    }
   },
   "outputs": [
    {
     "name": "stdout",
     "output_type": "stream",
     "text": [
      "20220629T100533\\exthost1\\output_logging_20220629T100541\\3-GitHub Authentication.log\r\n",
      "20220629T100533\\exthost1\\output_logging_20220629T100541\\12-GitHub Pull Request.log\r\n",
      "20220629T100533\\exthost1\\output_logging_20220629T100541\\17-Python Test Adapter Log.log\r\n",
      "20220629T100533\\exthost1\\output_logging_20220629T100541\\22-Jupyter.log\r\n",
      "20220629T100533\\exthost2\\output_logging_20220629T100541\\11-Git.log\r\n",
      "20220629T100533\\exthost1\\output_logging_20220629T100541\\26-.NET Interactive  diagnostics.log\r\n",
      "20220629T100533\\exthost1\\output_logging_20220629T100541\\14-Git.log\r\n",
      "20220629T100533\\exthost1\\output_logging_20220629T100541\\11-JSON Language Server.log\r\n",
      "20220629T100533\\exthost2\\output_logging_20220629T100541\\15-JSON Language Server.log\r\n"
     ]
    }
   ],
   "source": [
    "pushd (gi  \"$Env:AppData\\code\\logs\")\n",
    "\n",
    "fd --changed-within 10minutes --search-path (gi  \"$Env:AppData\\code\\logs\")\n",
    "| gi\n",
    "| sort LastWriteTime\n",
    "| To->RelativePath $Env:AppData\n",
    "| select -first 10"
   ]
  },
  {
   "cell_type": "code",
   "execution_count": null,
   "metadata": {
    "dotnet_interactive": {
     "language": "pwsh"
    },
    "vscode": {
     "languageId": "dotnet-interactive.pwsh"
    }
   },
   "outputs": [
    {
     "name": "stdout",
     "output_type": "stream",
     "text": [
      "20220629T161054\\\r\n",
      "20220629T100533\\exthost2\\output_logging_20220629T100541\\9-GitHub Pull Request.log\r\n",
      "20220629T100533\\exthost1\\output_logging_20220629T100541\\\r\n",
      "20220629T100533\\exthost1\\output_logging_20220629T100541\\27-.NET Interactive  logger.log\r\n",
      "20220629T100533\\exthost1\\output_logging_20220629T100541\\23-VS IntelliCode.log\r\n",
      "20220629T100533\\exthost1\\output_logging_20220629T100541\\25-Python 3.9.13 64-bit (windows store)-languageserver.log\r\n",
      "20220629T100533\\exthost1\\output_logging_20220629T100541\\9-Python.log\r\n",
      "20220629T100533\\exthost1\\output_logging_20220629T100541\\24-Pylint.log\r\n",
      "20220629T100533\\sharedprocess.log\r\n",
      "20220629T165413\\\r\n",
      "20220629T161054\\\r\n",
      "20220629T100533\\exthost2\\output_logging_20220629T100541\\9-GitHub Pull Request.log\r\n",
      "20220629T100533\\exthost1\\output_logging_20220629T100541\\\r\n",
      "20220629T100533\\exthost1\\output_logging_20220629T100541\\27-.NET Interactive  logger.log\r\n",
      "20220629T100533\\exthost1\\output_logging_20220629T100541\\23-VS IntelliCode.log\r\n",
      "20220629T100533\\exthost1\\output_logging_20220629T100541\\25-Python 3.9.13 64-bit (windows store)-languageserver.log\r\n",
      "20220629T100533\\exthost1\\output_logging_20220629T100541\\9-Python.log\r\n",
      "20220629T100533\\exthost1\\output_logging_20220629T100541\\24-Pylint.log\r\n",
      "20220629T100533\\sharedprocess.log\r\n",
      "20220629T165413\\\r\n"
     ]
    }
   ],
   "source": [
    "pushd (gi  \"$Env:AppData\\code\\logs\")\n",
    "\n",
    "fd --changed-within 200minutes --search-path (gi  \"$Env:AppData\\code\\logs\") \n",
    "| gi\n",
    "| sort LastWriteTime\n",
    "| To->RelativePath $Env:AppData\n",
    "| select -first 10"
   ]
  },
  {
   "cell_type": "code",
   "execution_count": null,
   "metadata": {
    "dotnet_interactive": {
     "language": "pwsh"
    },
    "vscode": {
     "languageId": "dotnet-interactive.pwsh"
    }
   },
   "outputs": [
    {
     "name": "stdout",
     "output_type": "stream",
     "text": [
      "20220629T100533\\exthost1\\output_logging_20220629T100541\\11-JSON Language Server.log\r\n",
      "20220629T100533\\exthost2\\output_logging_20220629T100541\\15-JSON Language Server.log\r\n"
     ]
    }
   ],
   "source": [
    "pushd (gi  \"$Env:AppData\\code\\logs\")\n",
    "\n",
    "fd --changed-within 10minutes --search-path (gi  \"$Env:AppData\\code\\logs\")\n",
    "| gi\n",
    "| ? Name -NotMatch 'github|jupyter|git'\n",
    "| sort LastWriteTime\n",
    "| To->RelativePath $Env:AppData"
   ]
  },
  {
   "cell_type": "code",
   "execution_count": null,
   "metadata": {
    "dotnet_interactive": {
     "language": "pwsh"
    },
    "vscode": {
     "languageId": "dotnet-interactive.pwsh"
    }
   },
   "outputs": [
    {
     "name": "stdout",
     "output_type": "stream",
     "text": [
      "\u001b[38;5;81mC:\\Users\\cppmo_000\\AppData\\Roaming\\Code\\logs\\\u001b[0m\u001b[38;5;81m20220629T161054\u001b[0m\u001b[38;5;81m\\\u001b[0m\r\n",
      "\u001b[38;5;81mC:\\Users\\cppmo_000\\AppData\\Roaming\\Code\\logs\\20220629T100533\\exthost2\\output_logging_20220629T100541\\\u001b[0m\u001b[38;5;243m9-GitHub Pull Request.log\u001b[0m\r\n",
      "\u001b[38;5;81mC:\\Users\\cppmo_000\\AppData\\Roaming\\Code\\logs\\20220629T100533\\exthost1\\\u001b[0m\u001b[38;5;81moutput_logging_20220629T100541\u001b[0m\u001b[38;5;81m\\\u001b[0m\r\n",
      "\u001b[38;5;81mC:\\Users\\cppmo_000\\AppData\\Roaming\\Code\\logs\\20220629T100533\\exthost1\\output_logging_20220629T100541\\\u001b[0m\u001b[38;5;243m27-.NET Interactive  logger.log\u001b[0m\r\n",
      "\u001b[38;5;81mC:\\Users\\cppmo_000\\AppData\\Roaming\\Code\\logs\\20220629T100533\\exthost1\\output_logging_20220629T100541\\\u001b[0m\u001b[38;5;243m23-VS IntelliCode.log\u001b[0m\r\n",
      "\u001b[38;5;81mC:\\Users\\cppmo_000\\AppData\\Roaming\\Code\\logs\\20220629T100533\\exthost1\\output_logging_20220629T100541\\\u001b[0m\u001b[38;5;243m25-Python 3.9.13 64-bit (windows store)-languageserver.log\u001b[0m\r\n",
      "\u001b[38;5;81mC:\\Users\\cppmo_000\\AppData\\Roaming\\Code\\logs\\20220629T100533\\exthost1\\output_logging_20220629T100541\\\u001b[0m\u001b[38;5;243m9-Python.log\u001b[0m\r\n",
      "\u001b[38;5;81mC:\\Users\\cppmo_000\\AppData\\Roaming\\Code\\logs\\20220629T100533\\exthost1\\output_logging_20220629T100541\\\u001b[0m\u001b[38;5;243m24-Pylint.log\u001b[0m\r\n",
      "\u001b[38;5;81mC:\\Users\\cppmo_000\\AppData\\Roaming\\Code\\logs\\20220629T100533\\\u001b[0m\u001b[38;5;243msharedprocess.log\u001b[0m\r\n",
      "\u001b[38;5;81mC:\\Users\\cppmo_000\\AppData\\Roaming\\Code\\logs\\\u001b[0m\u001b[38;5;81m20220629T165413\u001b[0m\u001b[38;5;81m\\\u001b[0m\r\n"
     ]
    }
   ],
   "source": [
    "# slightly different route, preserving colors\n",
    "fd --changed-within 200minutes --search-path (gi  \"$Env:AppData\\code\\logs\") --color=always\n",
    "| sort { $_ | StripAnsi | Gi | % LastWriteTime }\n",
    "| select -first 10"
   ]
  }
 ],
 "metadata": {
  "kernelspec": {
   "display_name": ".NET (C#)",
   "language": "C#",
   "name": ".net-csharp"
  },
  "language_info": {
   "file_extension": ".cs",
   "mimetype": "text/x-csharp",
   "name": "C#",
   "pygments_lexer": "csharp",
   "version": "9.0"
  },
  "orig_nbformat": 4
 },
 "nbformat": 4,
 "nbformat_minor": 2
}
